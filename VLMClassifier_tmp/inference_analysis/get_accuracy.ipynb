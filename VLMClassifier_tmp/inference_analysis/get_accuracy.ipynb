{
 "cells": [
  {
   "cell_type": "code",
   "execution_count": 1,
   "metadata": {},
   "outputs": [],
   "source": [
    "import json\n",
    "import numpy as np"
   ]
  },
  {
   "cell_type": "code",
   "execution_count": 8,
   "metadata": {},
   "outputs": [],
   "source": [
    "def get_accuracy(filename):\n",
    "    data = [json.loads(line) for line in open(filename)]\n",
    "    print(len(data))\n",
    "\n",
    "    accs1 = []\n",
    "    accs5 = []\n",
    "    for item in data:\n",
    "        probs = []\n",
    "        for idx, prob in enumerate(item[\"probs\"]):\n",
    "            probs.append((np.array(prob)).mean())\n",
    "\n",
    "        preds = np.array(probs).argsort()[-5:][::-1]\n",
    "        label = int(item[\"label_index\"])\n",
    "\n",
    "        accs1.append(preds[0] == label)\n",
    "        accs5.append(label in preds)\n",
    "\n",
    "    print(\"acc1 mean:\", np.array(accs1).mean() * 100, \"acc5 mean:\", np.array(accs5).mean() * 100)\n",
    "\n",
    "    accs1 = []\n",
    "    accs5 = []\n",
    "    for item in data:\n",
    "        probs = []\n",
    "        for idx, prob in enumerate(item[\"probs\"]):\n",
    "            probs.append((np.array(prob)).sum())\n",
    "\n",
    "        preds = np.array(probs).argsort()[-5:][::-1]\n",
    "        label = int(item[\"label_index\"])\n",
    "\n",
    "        accs1.append(preds[0] == label)\n",
    "        accs5.append(label in preds)\n",
    "\n",
    "    print(\"acc1 sum:\", np.array(accs1).mean() * 100, \"acc5 sum:\", np.array(accs5).mean() * 100)\n",
    "\n",
    "    all_probs = []\n",
    "    for item in data:\n",
    "        all_probs.append(item[\"probs\"])\n",
    "    print(len(all_probs[0]))\n",
    "\n",
    "    calibrated_probs = []\n",
    "    for i in range(len(all_probs[0])):\n",
    "        probs = []\n",
    "        for item in all_probs:\n",
    "            probs.append(item[i])\n",
    "        calibrated_probs.append(np.mean(probs, axis=0))\n",
    "    print(len(calibrated_probs))\n",
    "\n",
    "    for alpha in range(0, 9):\n",
    "        accs1 = []\n",
    "        accs5 = []\n",
    "        for item in data:\n",
    "            probs = []\n",
    "            for idx, prob in enumerate(item[\"probs\"]):\n",
    "                probs.append(\n",
    "                    (\n",
    "                        alpha * np.array(prob)\n",
    "                        + (1 - alpha) * np.array(calibrated_probs[idx])\n",
    "                    ).sum()\n",
    "                )\n",
    "\n",
    "            preds = np.array(probs).argsort()[-5:][::-1]\n",
    "            label = int(item[\"label_index\"])\n",
    "            accs1.append(preds[0] == label)\n",
    "            accs5.append(label in preds)\n",
    "\n",
    "        print(\"alpha:\", alpha, \"acc1:\", np.array(accs1).mean() * 100, \"acc5:\", np.array(accs5).mean() * 100)"
   ]
  },
  {
   "cell_type": "code",
   "execution_count": 9,
   "metadata": {},
   "outputs": [
    {
     "name": "stdout",
     "output_type": "stream",
     "text": [
      "9\n",
      "acc1 mean: 11.11111111111111 acc5 mean: 22.22222222222222\n",
      "acc1 sum: 11.11111111111111 acc5 sum: 22.22222222222222\n",
      "1000\n",
      "1000\n",
      "alpha: 0 acc1: 0.0 acc5: 11.11111111111111\n",
      "alpha: 1 acc1: 11.11111111111111 acc5: 22.22222222222222\n",
      "alpha: 2 acc1: 11.11111111111111 acc5: 22.22222222222222\n",
      "alpha: 3 acc1: 11.11111111111111 acc5: 44.44444444444444\n",
      "alpha: 4 acc1: 22.22222222222222 acc5: 44.44444444444444\n",
      "alpha: 5 acc1: 22.22222222222222 acc5: 44.44444444444444\n",
      "alpha: 6 acc1: 22.22222222222222 acc5: 44.44444444444444\n",
      "alpha: 7 acc1: 22.22222222222222 acc5: 44.44444444444444\n",
      "alpha: 8 acc1: 22.22222222222222 acc5: 44.44444444444444\n"
     ]
    }
   ],
   "source": [
    "get_accuracy(\"outputs/imagenet_llava7b.jsonl\")\n",
    "# print(\"-\" * 63)\n",
    "# get_accuracy(\"outputs/imagenet_blip2.jsonl\")"
   ]
  },
  {
   "cell_type": "code",
   "execution_count": null,
   "metadata": {},
   "outputs": [],
   "source": [
    "get_accuracy(\"outputs/flowers_llava7b.jsonl\")\n",
    "print(\"-\" * 63)\n",
    "get_accuracy(\"outputs/flowers_blip2.jsonl\")"
   ]
  },
  {
   "cell_type": "code",
   "execution_count": null,
   "metadata": {},
   "outputs": [],
   "source": [
    "get_accuracy(\"outputs/cars_llava7b.jsonl\")\n",
    "print(\"-\" * 63)\n",
    "get_accuracy(\"outputs/cars_blip2.jsonl\")"
   ]
  },
  {
   "cell_type": "code",
   "execution_count": null,
   "metadata": {},
   "outputs": [],
   "source": [
    "get_accuracy(\"outputs/caltech_llava7b.jsonl\")\n",
    "print(\"-\" * 63)\n",
    "get_accuracy(\"outputs/caltech_blip2.jsonl\")"
   ]
  }
 ],
 "metadata": {
  "kernelspec": {
   "display_name": "coe",
   "language": "python",
   "name": "python3"
  },
  "language_info": {
   "codemirror_mode": {
    "name": "ipython",
    "version": 3
   },
   "file_extension": ".py",
   "mimetype": "text/x-python",
   "name": "python",
   "nbconvert_exporter": "python",
   "pygments_lexer": "ipython3",
   "version": "3.11.11"
  }
 },
 "nbformat": 4,
 "nbformat_minor": 2
}
